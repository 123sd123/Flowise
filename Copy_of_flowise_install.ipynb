{
  "cells": [
    {
      "cell_type": "markdown",
      "metadata": {
        "id": "view-in-github",
        "colab_type": "text"
      },
      "source": [
        "<a href=\"https://colab.research.google.com/github/123sd123/Flowise/blob/main/Copy_of_flowise_install.ipynb\" target=\"_parent\"><img src=\"https://colab.research.google.com/assets/colab-badge.svg\" alt=\"Open In Colab\"/></a>"
      ]
    },
    {
      "cell_type": "code",
      "execution_count": null,
      "metadata": {
        "colab": {
          "base_uri": "https://localhost:8080/"
        },
        "id": "ZbFHMCBv1NAF",
        "outputId": "4d5cbad2-23a6-48f5-ccb5-aa0faa3fd791"
      },
      "outputs": [
        {
          "name": "stdout",
          "output_type": "stream",
          "text": [
            "\n",
            "\u001b[1m\u001b[31m================================================================================\u001b[m\n",
            "\u001b[1m\u001b[31m▓▓▓▓▓▓▓▓▓▓▓▓▓▓▓▓▓▓▓▓▓▓▓▓▓▓▓▓▓▓▓▓▓▓▓▓▓▓▓▓▓▓▓▓▓▓▓▓▓▓▓▓▓▓▓▓▓▓▓▓▓▓▓▓▓▓▓▓▓▓▓▓▓▓▓▓▓▓▓▓\u001b[m\n",
            "\u001b[1m\u001b[31m================================================================================\u001b[m\n",
            "\n",
            "  \u001b[1m\u001b[33m                         \u001b[4mSCRIPT DEPRECATION WARNING\u001b[m                    \u001b[m\n",
            "\n",
            "  \n",
            "  This script, located at \u001b[1mhttps://deb.nodesource.com/setup_X\u001b[m, used to\n",
            "  install Node.js is deprecated now and will eventually be made inactive.\n",
            "\n",
            "  Please visit the NodeSource \u001b[1mdistributions\u001b[m Github and follow the\n",
            "  instructions to migrate your repo.\n",
            "  \u001b[4m\u001b[32m\u001b[1mhttps://github.com/nodesource/distributions\u001b[m\n",
            "\n",
            "  The \u001b[1mNodeSource\u001b[m Node.js Linux distributions GitHub repository contains\n",
            "  information about which versions of Node.js and which Linux distributions\n",
            "  are supported and how to install it.\n",
            "  \u001b[4m\u001b[32m\u001b[1mhttps://github.com/nodesource/distributions\u001b[m\n",
            "\n",
            "\n",
            "                          \u001b[4m\u001b[1m\u001b[33mSCRIPT DEPRECATION WARNING\u001b[m\n",
            "\n",
            "\u001b[1m\u001b[31m================================================================================\u001b[m\n",
            "\u001b[1m\u001b[31m▓▓▓▓▓▓▓▓▓▓▓▓▓▓▓▓▓▓▓▓▓▓▓▓▓▓▓▓▓▓▓▓▓▓▓▓▓▓▓▓▓▓▓▓▓▓▓▓▓▓▓▓▓▓▓▓▓▓▓▓▓▓▓▓▓▓▓▓▓▓▓▓▓▓▓▓▓▓▓▓\u001b[m\n",
            "\u001b[1m\u001b[31m================================================================================\u001b[m\n",
            "\n",
            "\u001b[36m\u001b[1mTO AVOID THIS WAIT MIGRATE THE SCRIPT\u001b[m\n",
            "Continuing in 60 seconds (press Ctrl-C to abort) ...\n",
            "\n",
            "\n",
            "## Installing the NodeSource Node.js 20.x repo...\n",
            "\n",
            "\n",
            "## Populating apt-get cache...\n",
            "\n",
            "+ apt-get update\n",
            "Get:1 https://cloud.r-project.org/bin/linux/ubuntu jammy-cran40/ InRelease [3,626 B]\n",
            "Hit:2 https://developer.download.nvidia.com/compute/cuda/repos/ubuntu2204/x86_64  InRelease\n",
            "Hit:3 http://archive.ubuntu.com/ubuntu jammy InRelease\n",
            "Get:4 http://security.ubuntu.com/ubuntu jammy-security InRelease [110 kB]\n",
            "Get:5 http://archive.ubuntu.com/ubuntu jammy-updates InRelease [119 kB]\n",
            "Hit:6 https://ppa.launchpadcontent.net/c2d4u.team/c2d4u4.0+/ubuntu jammy InRelease\n",
            "Get:7 http://archive.ubuntu.com/ubuntu jammy-backports InRelease [109 kB]\n",
            "Hit:8 https://ppa.launchpadcontent.net/deadsnakes/ppa/ubuntu jammy InRelease\n",
            "Get:9 http://archive.ubuntu.com/ubuntu jammy-updates/universe amd64 Packages [1,260 kB]\n",
            "Hit:10 https://ppa.launchpadcontent.net/graphics-drivers/ppa/ubuntu jammy InRelease\n",
            "Get:11 http://archive.ubuntu.com/ubuntu jammy-updates/main amd64 Packages [1,283 kB]\n",
            "Get:12 http://archive.ubuntu.com/ubuntu jammy-backports/main amd64 Packages [78.4 kB]\n",
            "Get:13 http://archive.ubuntu.com/ubuntu jammy-backports/universe amd64 Packages [32.7 kB]\n",
            "Hit:14 https://ppa.launchpadcontent.net/ubuntugis/ppa/ubuntu jammy InRelease\n",
            "Fetched 2,996 kB in 2s (1,672 kB/s)\n",
            "Reading package lists... Done\n",
            "\n",
            "## Confirming \"jammy\" is supported...\n",
            "\n",
            "+ curl -sLf -o /dev/null 'https://deb.nodesource.com/node_20.x/dists/jammy/Release'\n",
            "\n",
            "## Adding the NodeSource signing key to your keyring...\n",
            "\n",
            "+ curl -s https://deb.nodesource.com/gpgkey/nodesource.gpg.key | gpg --dearmor | tee /usr/share/keyrings/nodesource.gpg >/dev/null\n",
            "\n",
            "## Creating apt sources list file for the NodeSource Node.js 20.x repo...\n",
            "\n",
            "+ echo 'deb [signed-by=/usr/share/keyrings/nodesource.gpg] https://deb.nodesource.com/node_20.x jammy main' > /etc/apt/sources.list.d/nodesource.list\n",
            "+ echo 'deb-src [signed-by=/usr/share/keyrings/nodesource.gpg] https://deb.nodesource.com/node_20.x jammy main' >> /etc/apt/sources.list.d/nodesource.list\n",
            "\n",
            "## Running `apt-get update` for you...\n",
            "\n",
            "+ apt-get update\n",
            "Hit:1 https://cloud.r-project.org/bin/linux/ubuntu jammy-cran40/ InRelease\n",
            "Hit:2 https://developer.download.nvidia.com/compute/cuda/repos/ubuntu2204/x86_64  InRelease\n",
            "Hit:3 http://security.ubuntu.com/ubuntu jammy-security InRelease\n",
            "Hit:4 http://archive.ubuntu.com/ubuntu jammy InRelease\n",
            "Get:5 https://deb.nodesource.com/node_20.x jammy InRelease [4,563 B]\n",
            "Hit:6 http://archive.ubuntu.com/ubuntu jammy-updates InRelease\n",
            "Hit:7 http://archive.ubuntu.com/ubuntu jammy-backports InRelease\n",
            "Hit:8 https://ppa.launchpadcontent.net/c2d4u.team/c2d4u4.0+/ubuntu jammy InRelease\n",
            "Get:9 https://deb.nodesource.com/node_20.x jammy/main amd64 Packages [775 B]\n",
            "Hit:10 https://ppa.launchpadcontent.net/deadsnakes/ppa/ubuntu jammy InRelease\n",
            "Hit:11 https://ppa.launchpadcontent.net/graphics-drivers/ppa/ubuntu jammy InRelease\n",
            "Hit:12 https://ppa.launchpadcontent.net/ubuntugis/ppa/ubuntu jammy InRelease\n",
            "Fetched 5,338 B in 2s (3,103 B/s)\n",
            "Reading package lists... Done\n",
            "\n",
            "## Run `\u001b[1msudo apt-get install -y nodejs\u001b[m` to install Node.js 20.x and npm\n",
            "## You may also need development tools to build native addons:\n",
            "     sudo apt-get install gcc g++ make\n",
            "## To install the Yarn package manager, run:\n",
            "     curl -sL https://dl.yarnpkg.com/debian/pubkey.gpg | gpg --dearmor | sudo tee /usr/share/keyrings/yarnkey.gpg >/dev/null\n",
            "     echo \"deb [signed-by=/usr/share/keyrings/yarnkey.gpg] https://dl.yarnpkg.com/debian stable main\" | sudo tee /etc/apt/sources.list.d/yarn.list\n",
            "     sudo apt-get update && sudo apt-get install yarn\n",
            "\n",
            "\n",
            "Reading package lists... Done\n",
            "Building dependency tree... Done\n",
            "Reading state information... Done\n",
            "The following NEW packages will be installed:\n",
            "  nodejs\n",
            "0 upgraded, 1 newly installed, 0 to remove and 18 not upgraded.\n",
            "Need to get 30.3 MB of archives.\n",
            "After this operation, 194 MB of additional disk space will be used.\n",
            "Get:1 https://deb.nodesource.com/node_20.x jammy/main amd64 nodejs amd64 20.5.1-deb-1nodesource1 [30.3 MB]\n",
            "Fetched 30.3 MB in 1s (58.8 MB/s)\n",
            "debconf: unable to initialize frontend: Dialog\n",
            "debconf: (No usable dialog-like program is installed, so the dialog based frontend cannot be used. at /usr/share/perl5/Debconf/FrontEnd/Dialog.pm line 78, <> line 1.)\n",
            "debconf: falling back to frontend: Readline\n",
            "debconf: unable to initialize frontend: Readline\n",
            "debconf: (This frontend requires a controlling tty.)\n",
            "debconf: falling back to frontend: Teletype\n",
            "dpkg-preconfigure: unable to re-open stdin: \n",
            "Selecting previously unselected package nodejs.\n",
            "(Reading database ... 120895 files and directories currently installed.)\n",
            "Preparing to unpack .../nodejs_20.5.1-deb-1nodesource1_amd64.deb ...\n",
            "Unpacking nodejs (20.5.1-deb-1nodesource1) ...\n",
            "Setting up nodejs (20.5.1-deb-1nodesource1) ...\n",
            "Processing triggers for man-db (2.10.2-1) ...\n"
          ]
        }
      ],
      "source": [
        "!curl -sL  https://deb.nodesource.com/setup_20.x | sudo -E bash -\n",
        "!sudo apt-get install -y nodejs\n"
      ]
    },
    {
      "cell_type": "code",
      "execution_count": null,
      "metadata": {
        "colab": {
          "base_uri": "https://localhost:8080/"
        },
        "id": "V-HiYdH_1t-T",
        "outputId": "82114741-e210-466b-a531-e1f37661fe84"
      },
      "outputs": [
        {
          "name": "stdout",
          "output_type": "stream",
          "text": [
            "\u001b[K\u001b[?25h\u001b[37;40mnpm\u001b[0m \u001b[0m\u001b[30;43mWARN\u001b[0m \u001b[0m\u001b[35mERESOLVE\u001b[0m overriding peer dependency\n",
            "\u001b[K\u001b[?25h\u001b[37;40mnpm\u001b[0m \u001b[0m\u001b[30;43mWARN\u001b[0m \u001b[0m\u001b[35mdeprecated\u001b[0m @babel/plugin-proposal-class-properties@7.18.6: This proposal has been merged to the ECMAScript standard and thus this plugin is no longer maintained. Please use @babel/plugin-transform-class-properties instead.\n",
            "\u001b[K\u001b[?25h\u001b[37;40mnpm\u001b[0m \u001b[0m\u001b[30;43mWARN\u001b[0m \u001b[0m\u001b[35mdeprecated\u001b[0m cross-spawn-async@2.2.5: cross-spawn no longer requires a build toolchain, use it instead\n",
            "\u001b[K\u001b[?25h\u001b[37;40mnpm\u001b[0m \u001b[0m\u001b[30;43mWARN\u001b[0m \u001b[0m\u001b[35mdeprecated\u001b[0m @npmcli/move-file@1.1.2: This functionality has been moved to @npmcli/fs\n",
            "\u001b[K\u001b[?25h\u001b[37;40mnpm\u001b[0m \u001b[0m\u001b[30;43mWARN\u001b[0m \u001b[0m\u001b[35mdeprecated\u001b[0m vm2@3.9.19: The library contains critical security issues and should not be used for production! The maintenance of the project has been discontinued. Consider migrating your code to isolated-vm.\n",
            "\u001b[K\u001b[?25h\u001b[37;40mnpm\u001b[0m \u001b[0m\u001b[30;43mWARN\u001b[0m \u001b[0m\u001b[35mdeprecated\u001b[0m highlight.js@9.15.10: Version no longer supported. Upgrade to @latest\n",
            "\u001b[K\u001b[?25h\n",
            "added 1525 packages in 3m\n",
            "\n",
            "239 packages are looking for funding\n",
            "  run `npm fund` for details\n",
            "\u001b[37;40mnpm\u001b[0m \u001b[0m\u001b[36;40mnotice\u001b[0m\u001b[35m\u001b[0m \n",
            "\u001b[0m\u001b[37;40mnpm\u001b[0m \u001b[0m\u001b[36;40mnotice\u001b[0m\u001b[35m\u001b[0m New \u001b[31mmajor\u001b[39m version of npm available! \u001b[31m9.8.0\u001b[39m -> \u001b[32m10.1.0\u001b[39m\n",
            "\u001b[0m\u001b[37;40mnpm\u001b[0m \u001b[0m\u001b[36;40mnotice\u001b[0m\u001b[35m\u001b[0m Changelog: \u001b[36mhttps://github.com/npm/cli/releases/tag/v10.1.0\u001b[39m\n",
            "\u001b[0m\u001b[37;40mnpm\u001b[0m \u001b[0m\u001b[36;40mnotice\u001b[0m\u001b[35m\u001b[0m Run \u001b[32mnpm install -g npm@10.1.0\u001b[39m to update!\n",
            "\u001b[0m\u001b[37;40mnpm\u001b[0m \u001b[0m\u001b[36;40mnotice\u001b[0m\u001b[35m\u001b[0m \n",
            "\u001b[0m"
          ]
        }
      ],
      "source": [
        "!npm install -g flowise"
      ]
    },
    {
      "cell_type": "code",
      "execution_count": null,
      "metadata": {
        "colab": {
          "base_uri": "https://localhost:8080/"
        },
        "id": "DTaEGMP51yx_",
        "outputId": "df25ff17-673a-4700-d8f7-b7f2f5d8a513"
      },
      "outputs": [
        {
          "name": "stdout",
          "output_type": "stream",
          "text": [
            "Collecting pyngrok\n",
            "  Downloading pyngrok-7.0.0.tar.gz (718 kB)\n",
            "\u001b[?25l     \u001b[90m━━━━━━━━━━━━━━━━━━━━━━━━━━━━━━━━━━━━━━━━\u001b[0m \u001b[32m0.0/718.7 kB\u001b[0m \u001b[31m?\u001b[0m eta \u001b[36m-:--:--\u001b[0m\r\u001b[2K     \u001b[91m━━━━━━\u001b[0m\u001b[90m╺\u001b[0m\u001b[90m━━━━━━━━━━━━━━━━━━━━━━━━━━━━━━━━\u001b[0m \u001b[32m112.6/718.7 kB\u001b[0m \u001b[31m3.1 MB/s\u001b[0m eta \u001b[36m0:00:01\u001b[0m\r\u001b[2K     \u001b[91m━━━━━━━━━━━━━━━━━━━━━━━━━━━━━━━━━━━━━\u001b[0m\u001b[91m╸\u001b[0m \u001b[32m716.8/718.7 kB\u001b[0m \u001b[31m11.1 MB/s\u001b[0m eta \u001b[36m0:00:01\u001b[0m\r\u001b[2K     \u001b[90m━━━━━━━━━━━━━━━━━━━━━━━━━━━━━━━━━━━━━━━\u001b[0m \u001b[32m718.7/718.7 kB\u001b[0m \u001b[31m9.4 MB/s\u001b[0m eta \u001b[36m0:00:00\u001b[0m\n",
            "\u001b[?25h  Preparing metadata (setup.py) ... \u001b[?25l\u001b[?25hdone\n",
            "Requirement already satisfied: PyYAML in /usr/local/lib/python3.10/dist-packages (from pyngrok) (6.0.1)\n",
            "Building wheels for collected packages: pyngrok\n",
            "  Building wheel for pyngrok (setup.py) ... \u001b[?25l\u001b[?25hdone\n",
            "  Created wheel for pyngrok: filename=pyngrok-7.0.0-py3-none-any.whl size=21129 sha256=ee5d647526d4b3e77d13ad5356d7ff33455a26034b8f69133784dc0bfae1dc98\n",
            "  Stored in directory: /root/.cache/pip/wheels/60/29/7b/f64332aa7e5e88fbd56d4002185ae22dcdc83b35b3d1c2cbf5\n",
            "Successfully built pyngrok\n",
            "Installing collected packages: pyngrok\n",
            "Successfully installed pyngrok-7.0.0\n"
          ]
        }
      ],
      "source": [
        "!pip install pyngrok\n"
      ]
    },
    {
      "cell_type": "code",
      "execution_count": null,
      "metadata": {
        "colab": {
          "base_uri": "https://localhost:8080/"
        },
        "id": "Y8gxHbDG16En",
        "outputId": "21c3936d-ff97-499a-bc18-8c12c4507120"
      },
      "outputs": [
        {
          "name": "stdout",
          "output_type": "stream",
          "text": [
            "Authtoken saved to configuration file: /root/.ngrok2/ngrok.yml\n"
          ]
        }
      ],
      "source": [
        "!ngrok config add-authtoken  2UuubhI4tJfdZPQ8I45Gahk6vSF_78XKZBeFtxQbadZkjFqs3"
      ]
    },
    {
      "cell_type": "code",
      "execution_count": null,
      "metadata": {
        "colab": {
          "base_uri": "https://localhost:8080/"
        },
        "id": "uvWrYZqa1-bV",
        "outputId": "ec1e3297-a3a0-470f-e460-1d61700a91a1"
      },
      "outputs": [
        {
          "name": "stderr",
          "output_type": "stream",
          "text": [
            "WARNING:pyngrok.process.ngrok:t=2023-09-22T17:50:34+0000 lvl=warn msg=\"ngrok config file found at legacy location, move to XDG location\" xdg_path=/root/.config/ngrok/ngrok.yml legacy_path=/root/.ngrok2/ngrok.yml\n"
          ]
        },
        {
          "name": "stdout",
          "output_type": "stream",
          "text": [
            "NgrokTunnel: \"https://04a6-34-138-91-139.ngrok-free.app\" -> \"http://localhost:3000\"\n"
          ]
        }
      ],
      "source": [
        "from pyngrok import ngrok\n",
        "\n",
        "# Open a HTTP tunnel on the default port 80\n",
        "public_url = ngrok.connect(3000)\n",
        "print(public_url)"
      ]
    },
    {
      "cell_type": "code",
      "execution_count": null,
      "metadata": {
        "colab": {
          "background_save": true,
          "base_uri": "https://localhost:8080/"
        },
        "id": "pWCJ6fbqD7Gg",
        "outputId": "3d768748-ed23-4077-ddfb-b6af56b66771"
      },
      "outputs": [
        {
          "name": "stdout",
          "output_type": "stream",
          "text": [
            "2023-09-22 17:50:38 [INFO]: Starting Flowise...\n",
            "2023-09-22 17:50:38 [INFO]: ⚡️ [server]: Flowise Server is listening at 3000\n",
            "2023-09-22 17:50:38 [INFO]: 📦 [server]: Data Source has been initialized!\n",
            "2023-09-22 18:07:40 [INFO]: ⬆️ POST /api/v1/credentials\n",
            "2023-09-22 18:10:00 [INFO]: ⬆️ POST /api/v1/credentials\n",
            "2023-09-22 18:14:36 [INFO]: ⬆️ POST /api/v1/chatflows\n",
            "2023-09-22 18:14:43 [INFO]: ⬆️ POST /api/v1/chatmessage/e1418115-0a95-4445-8d9f-d50875891390\n",
            "2023-09-22 18:14:43 [INFO]: ⬆️ POST /api/v1/internal-prediction/e1418115-0a95-4445-8d9f-d50875891390\n",
            "2023-09-22 18:16:06 [ERROR]: Invalid inference output: Expected Array<number[][][] | number[][] | number[] | number>. Use the 'request' method with the same parameters to do a custom call with no type checking.\n",
            "InferenceOutputError: Invalid inference output: Expected Array<number[][][] | number[][] | number[] | number>. Use the 'request' method with the same parameters to do a custom call with no type checking.\n",
            "    at featureExtraction (/usr/lib/node_modules/flowise/node_modules/flowise-components/node_modules/@huggingface/inference/dist/index.js:611:11)\n",
            "    at process.processTicksAndRejections (node:internal/process/task_queues:95:5)\n",
            "    at async RetryOperation._fn (/usr/lib/node_modules/flowise/node_modules/p-retry/index.js:50:12)\n",
            "2023-09-22 18:16:06 [ERROR]: [server]: Error: InferenceOutputError: Invalid inference output: Expected Array<number[][][] | number[][] | number[] | number>. Use the 'request' method with the same parameters to do a custom call with no type checking.\n",
            "Error: InferenceOutputError: Invalid inference output: Expected Array<number[][][] | number[][] | number[] | number>. Use the 'request' method with the same parameters to do a custom call with no type checking.\n",
            "    at buildLangchain (/usr/lib/node_modules/flowise/dist/utils/index.js:231:19)\n",
            "    at process.processTicksAndRejections (node:internal/process/task_queues:95:5)\n",
            "    at async App.processPrediction (/usr/lib/node_modules/flowise/dist/index.js:813:40)\n",
            "    at async /usr/lib/node_modules/flowise/dist/index.js:606:13\n",
            "2023-09-22 18:16:06 [INFO]: ⬆️ POST /api/v1/chatmessage/e1418115-0a95-4445-8d9f-d50875891390\n",
            "2023-09-22 18:17:10 [INFO]: 🖊 PUT /api/v1/chatflows/e1418115-0a95-4445-8d9f-d50875891390\n",
            "2023-09-22 18:17:30 [INFO]: ⬆️ POST /api/v1/chatmessage/e1418115-0a95-4445-8d9f-d50875891390\n",
            "2023-09-22 18:17:30 [INFO]: ⬆️ POST /api/v1/internal-prediction/e1418115-0a95-4445-8d9f-d50875891390\n",
            "2023-09-22 18:20:05 [ERROR]: An error occurred while fetching the blob\n",
            "Error: An error occurred while fetching the blob\n",
            "    at request (/usr/lib/node_modules/flowise/node_modules/flowise-components/node_modules/@huggingface/inference/dist/index.js:209:11)\n",
            "    at process.processTicksAndRejections (node:internal/process/task_queues:95:5)\n",
            "    at async featureExtraction (/usr/lib/node_modules/flowise/node_modules/flowise-components/node_modules/@huggingface/inference/dist/index.js:594:15)\n",
            "    at async RetryOperation._fn (/usr/lib/node_modules/flowise/node_modules/p-retry/index.js:50:12)\n",
            "2023-09-22 18:20:05 [ERROR]: [server]: Error: Error: An error occurred while fetching the blob\n",
            "Error: Error: An error occurred while fetching the blob\n",
            "    at buildLangchain (/usr/lib/node_modules/flowise/dist/utils/index.js:231:19)\n",
            "    at process.processTicksAndRejections (node:internal/process/task_queues:95:5)\n",
            "    at async App.processPrediction (/usr/lib/node_modules/flowise/dist/index.js:813:40)\n",
            "    at async /usr/lib/node_modules/flowise/dist/index.js:606:13\n",
            "2023-09-22 18:20:06 [INFO]: ⬆️ POST /api/v1/chatmessage/e1418115-0a95-4445-8d9f-d50875891390\n",
            "2023-09-22 18:30:06 [INFO]: ⬆️ POST /api/v1/credentials\n",
            "2023-09-22 18:30:28 [INFO]: 🖊 PUT /api/v1/chatflows/e1418115-0a95-4445-8d9f-d50875891390\n",
            "2023-09-22 18:30:42 [INFO]: 🖊 PUT /api/v1/chatflows/e1418115-0a95-4445-8d9f-d50875891390\n",
            "2023-09-22 18:30:49 [INFO]: ⬆️ POST /api/v1/chatmessage/e1418115-0a95-4445-8d9f-d50875891390\n",
            "2023-09-22 18:30:49 [INFO]: ⬆️ POST /api/v1/internal-prediction/e1418115-0a95-4445-8d9f-d50875891390\n",
            "2023-09-22 18:30:50 [INFO]: [server]: Chatflow e1418115-0a95-4445-8d9f-d50875891390 added into ChatflowPool\n",
            "2023-09-22 18:30:52 [INFO]: ⬆️ POST /api/v1/chatmessage/e1418115-0a95-4445-8d9f-d50875891390\n",
            "2023-09-22 18:31:04 [INFO]: ⬆️ POST /api/v1/chatmessage/e1418115-0a95-4445-8d9f-d50875891390\n",
            "2023-09-22 18:31:04 [INFO]: ⬆️ POST /api/v1/internal-prediction/e1418115-0a95-4445-8d9f-d50875891390\n",
            "2023-09-22 18:31:16 [INFO]: ⬆️ POST /api/v1/chatmessage/e1418115-0a95-4445-8d9f-d50875891390\n",
            "2023-09-22 18:32:12 [INFO]: ⬆️ POST /api/v1/chatmessage/e1418115-0a95-4445-8d9f-d50875891390\n",
            "2023-09-22 18:32:13 [INFO]: ⬆️ POST /api/v1/internal-prediction/e1418115-0a95-4445-8d9f-d50875891390\n",
            "2023-09-22 18:32:20 [INFO]: ⬆️ POST /api/v1/chatmessage/e1418115-0a95-4445-8d9f-d50875891390\n",
            "2023-09-22 18:32:44 [INFO]: ⬆️ POST /api/v1/chatmessage/e1418115-0a95-4445-8d9f-d50875891390\n",
            "2023-09-22 18:32:44 [INFO]: ⬆️ POST /api/v1/internal-prediction/e1418115-0a95-4445-8d9f-d50875891390\n",
            "2023-09-22 18:32:48 [INFO]: ⬆️ POST /api/v1/chatmessage/e1418115-0a95-4445-8d9f-d50875891390\n"
          ]
        }
      ],
      "source": [
        "!npx flowise start"
      ]
    }
  ],
  "metadata": {
    "colab": {
      "provenance": [],
      "include_colab_link": true
    },
    "kernelspec": {
      "display_name": "Python 3",
      "name": "python3"
    },
    "language_info": {
      "name": "python"
    }
  },
  "nbformat": 4,
  "nbformat_minor": 0
}